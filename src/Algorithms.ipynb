{
  "cells": [
    {
      "cell_type": "markdown",
      "metadata": {},
      "source": [
        "# Algorithms implemented\n"
      ]
    },
    {
      "cell_type": "code",
      "execution_count": 1,
      "metadata": {},
      "outputs": [
        {
          "name": "stdout",
          "output_type": "stream",
          "text": [
            "pygame 2.5.2 (SDL 2.28.2, Python 3.12.1)\n",
            "Hello from the pygame community. https://www.pygame.org/contribute.html\n"
          ]
        }
      ],
      "source": [
        "from utils import markov_from_file\n",
        "from main import main_gi, main_console"
      ]
    },
    {
      "cell_type": "markdown",
      "metadata": {},
      "source": [
        "Change path_to_markov to the path to the model you would like to simulate."
      ]
    },
    {
      "cell_type": "code",
      "execution_count": 2,
      "metadata": {},
      "outputs": [
        {
          "name": "stdout",
          "output_type": "stream",
          "text": [
            "ANTLR runtime and generated code versions disagree: 4.9.2!=4.7.2\n",
            "ANTLR runtime and generated code versions disagree: 4.9.2!=4.7.2\n"
          ]
        }
      ],
      "source": [
        "path_to_markov = \"examples/coin_reward.mdp\"\n",
        "markov = markov_from_file(path_to_markov)"
      ]
    },
    {
      "cell_type": "markdown",
      "metadata": {},
      "source": [
        "### Simulate your model"
      ]
    },
    {
      "cell_type": "markdown",
      "metadata": {},
      "source": [
        "- Here you can simulate manually your model with a graphic interface."
      ]
    },
    {
      "cell_type": "code",
      "execution_count": 3,
      "metadata": {},
      "outputs": [
        {
          "name": "stderr",
          "output_type": "stream",
          "text": [
            "ALSA lib confmisc.c:855:(parse_card) cannot find card '0'\n",
            "ALSA lib conf.c:5178:(_snd_config_evaluate) function snd_func_card_inum returned error: No such file or directory\n",
            "ALSA lib confmisc.c:422:(snd_func_concat) error evaluating strings\n",
            "ALSA lib conf.c:5178:(_snd_config_evaluate) function snd_func_concat returned error: No such file or directory\n",
            "ALSA lib confmisc.c:1334:(snd_func_refer) error evaluating name\n",
            "ALSA lib conf.c:5178:(_snd_config_evaluate) function snd_func_refer returned error: No such file or directory\n",
            "ALSA lib conf.c:5701:(snd_config_expand) Evaluate error: No such file or directory\n",
            "ALSA lib pcm.c:2664:(snd_pcm_open_noupdate) Unknown PCM default\n",
            "/home/mcoutier/miniconda3/envs/MPAR/lib/python3.12/site-packages/pygame/sysfont.py:223: UserWarning: 'fc-list' is missing, system fonts cannot be loaded on your platform\n",
            "  warnings.warn(\n"
          ]
        },
        {
          "name": "stdout",
          "output_type": "stream",
          "text": [
            "ANTLR runtime and generated code versions disagree: 4.9.2!=4.7.2\n",
            "ANTLR runtime and generated code versions disagree: 4.9.2!=4.7.2\n"
          ]
        }
      ],
      "source": [
        "main_gi(markov)\n",
        "markov = markov_from_file(path_to_markov) ## reset your model after simulation to simulate again"
      ]
    },
    {
      "cell_type": "markdown",
      "metadata": {},
      "source": [
        "- Here you can simulate manually your model with a textual interface."
      ]
    },
    {
      "cell_type": "code",
      "execution_count": 4,
      "metadata": {},
      "outputs": [
        {
          "name": "stdout",
          "output_type": "stream",
          "text": [
            "\n",
            "\n",
            "Simulation starts. Enter . to end simulation\n",
            "\n",
            "Current state: S0\n",
            "Following transitions are possible : To S1 with weight 1, To S2 with weight 1\n",
            "Transition To S1 with weight 1 chosen. \n",
            "\n",
            "Current state: S1\n",
            "Following transitions are possible : To S3 with weight 1, To S4 with weight 1\n",
            "Transition To S4 with weight 1 chosen. \n",
            "\n",
            "Current state: S4\n",
            "Following transitions are possible : To D2 with weight 1, To D3 with weight 1\n",
            "Transition To D2 with weight 1 chosen. \n",
            "\n",
            "Current state: D2\n",
            "Following transitions are possible : To D2 with weight 1\n",
            "Transition To D2 with weight 1 chosen. \n",
            "\n",
            "Current state: D2\n",
            "Following transitions are possible : To D2 with weight 1\n",
            "Transition To D2 with weight 1 chosen. \n",
            "\n",
            "Current state: D2\n",
            "Following transitions are possible : To D2 with weight 1\n",
            "Transition To D2 with weight 1 chosen. \n",
            "\n",
            "Current state: D2\n",
            "Following transitions are possible : To D2 with weight 1\n",
            "Transition To D2 with weight 1 chosen. \n",
            "\n",
            "Current state: D2\n",
            "Following transitions are possible : To D2 with weight 1\n",
            "Transition To D2 with weight 1 chosen. \n",
            "\n",
            "Current state: D2\n",
            "Following transitions are possible : To D2 with weight 1\n"
          ]
        },
        {
          "ename": "KeyboardInterrupt",
          "evalue": "Interrupted by user",
          "output_type": "error",
          "traceback": [
            "\u001b[0;31m---------------------------------------------------------------------------\u001b[0m",
            "\u001b[0;31mKeyboardInterrupt\u001b[0m                         Traceback (most recent call last)",
            "\u001b[1;32m/home/mcoutier/Centrale/MPAR/markov-interaction/src/Algorithms.ipynb Cell 9\u001b[0m line \u001b[0;36m1\n\u001b[0;32m----> <a href='vscode-notebook-cell://wsl%2Bubuntu/home/mcoutier/Centrale/MPAR/markov-interaction/src/Algorithms.ipynb#X11sdnNjb2RlLXJlbW90ZQ%3D%3D?line=0'>1</a>\u001b[0m main_console(markov)\n\u001b[1;32m      <a href='vscode-notebook-cell://wsl%2Bubuntu/home/mcoutier/Centrale/MPAR/markov-interaction/src/Algorithms.ipynb#X11sdnNjb2RlLXJlbW90ZQ%3D%3D?line=1'>2</a>\u001b[0m markov \u001b[39m=\u001b[39m markov_from_file(path_to_markov)\n",
            "File \u001b[0;32m~/Centrale/MPAR/markov-interaction/src/main.py:65\u001b[0m, in \u001b[0;36mmain_console\u001b[0;34m(markov)\u001b[0m\n\u001b[1;32m     63\u001b[0m available \u001b[39m=\u001b[39m [\u001b[39mstr\u001b[39m(trans) \u001b[39mfor\u001b[39;00m trans \u001b[39min\u001b[39;00m markov\u001b[39m.\u001b[39mgraph[markov\u001b[39m.\u001b[39mcurrent_state]]\n\u001b[1;32m     64\u001b[0m \u001b[39mprint\u001b[39m(\u001b[39mf\u001b[39m\u001b[39m\"\u001b[39m\u001b[39mFollowing transitions are possible : \u001b[39m\u001b[39m{\u001b[39;00m\u001b[39m'\u001b[39m\u001b[39m, \u001b[39m\u001b[39m'\u001b[39m\u001b[39m.\u001b[39mjoin(available)\u001b[39m}\u001b[39;00m\u001b[39m\"\u001b[39m)\n\u001b[0;32m---> 65\u001b[0m choice \u001b[39m=\u001b[39m \u001b[39minput\u001b[39m(\u001b[39m\"\u001b[39m\u001b[39mPress enter to continue \u001b[39m\u001b[39m\\n\u001b[39;00m\u001b[39m\"\u001b[39m)\n\u001b[1;32m     66\u001b[0m \u001b[39mif\u001b[39;00m choice \u001b[39m==\u001b[39m \u001b[39m\"\u001b[39m\u001b[39m.\u001b[39m\u001b[39m\"\u001b[39m:\n\u001b[1;32m     67\u001b[0m     \u001b[39mreturn\u001b[39;00m\n",
            "File \u001b[0;32m~/miniconda3/envs/MPAR/lib/python3.12/site-packages/ipykernel/kernelbase.py:1262\u001b[0m, in \u001b[0;36mKernel.raw_input\u001b[0;34m(self, prompt)\u001b[0m\n\u001b[1;32m   1260\u001b[0m     msg \u001b[39m=\u001b[39m \u001b[39m\"\u001b[39m\u001b[39mraw_input was called, but this frontend does not support input requests.\u001b[39m\u001b[39m\"\u001b[39m\n\u001b[1;32m   1261\u001b[0m     \u001b[39mraise\u001b[39;00m StdinNotImplementedError(msg)\n\u001b[0;32m-> 1262\u001b[0m \u001b[39mreturn\u001b[39;00m \u001b[39mself\u001b[39m\u001b[39m.\u001b[39m_input_request(\n\u001b[1;32m   1263\u001b[0m     \u001b[39mstr\u001b[39m(prompt),\n\u001b[1;32m   1264\u001b[0m     \u001b[39mself\u001b[39m\u001b[39m.\u001b[39m_parent_ident[\u001b[39m\"\u001b[39m\u001b[39mshell\u001b[39m\u001b[39m\"\u001b[39m],\n\u001b[1;32m   1265\u001b[0m     \u001b[39mself\u001b[39m\u001b[39m.\u001b[39mget_parent(\u001b[39m\"\u001b[39m\u001b[39mshell\u001b[39m\u001b[39m\"\u001b[39m),\n\u001b[1;32m   1266\u001b[0m     password\u001b[39m=\u001b[39m\u001b[39mFalse\u001b[39;00m,\n\u001b[1;32m   1267\u001b[0m )\n",
            "File \u001b[0;32m~/miniconda3/envs/MPAR/lib/python3.12/site-packages/ipykernel/kernelbase.py:1305\u001b[0m, in \u001b[0;36mKernel._input_request\u001b[0;34m(self, prompt, ident, parent, password)\u001b[0m\n\u001b[1;32m   1302\u001b[0m \u001b[39mexcept\u001b[39;00m \u001b[39mKeyboardInterrupt\u001b[39;00m:\n\u001b[1;32m   1303\u001b[0m     \u001b[39m# re-raise KeyboardInterrupt, to truncate traceback\u001b[39;00m\n\u001b[1;32m   1304\u001b[0m     msg \u001b[39m=\u001b[39m \u001b[39m\"\u001b[39m\u001b[39mInterrupted by user\u001b[39m\u001b[39m\"\u001b[39m\n\u001b[0;32m-> 1305\u001b[0m     \u001b[39mraise\u001b[39;00m \u001b[39mKeyboardInterrupt\u001b[39;00m(msg) \u001b[39mfrom\u001b[39;00m \u001b[39mNone\u001b[39;00m\n\u001b[1;32m   1306\u001b[0m \u001b[39mexcept\u001b[39;00m \u001b[39mException\u001b[39;00m:\n\u001b[1;32m   1307\u001b[0m     \u001b[39mself\u001b[39m\u001b[39m.\u001b[39mlog\u001b[39m.\u001b[39mwarning(\u001b[39m\"\u001b[39m\u001b[39mInvalid Message:\u001b[39m\u001b[39m\"\u001b[39m, exc_info\u001b[39m=\u001b[39m\u001b[39mTrue\u001b[39;00m)\n",
            "\u001b[0;31mKeyboardInterrupt\u001b[0m: Interrupted by user"
          ]
        }
      ],
      "source": [
        "main_console(markov)\n",
        "markov = markov_from_file(path_to_markov) ## reset your model after simulation to simulate again"
      ]
    },
    {
      "cell_type": "markdown",
      "metadata": {},
      "source": [
        "### Probabilistic Computation Tree Logic\n"
      ]
    },
    {
      "cell_type": "markdown",
      "metadata": {},
      "source": [
        "- PCTL pour DTMC\n"
      ]
    },
    {
      "cell_type": "code",
      "execution_count": null,
      "metadata": {},
      "outputs": [
        {
          "name": "stdout",
          "output_type": "stream",
          "text": [
            "P(<> D1) = (['S0', 'S1', 'S2', 'S3', 'S4', 'S5', 'S6'], array([0.16666667, 0.33333333, 0.        , 0.66666667, 0.        ,\n",
            "       0.        , 0.        ]))\n",
            "P(<> < 10 D1) = (['S0', 'S1', 'S2', 'S3', 'S4', 'S5', 'S6'], array([0.16601562, 0.33300781, 0.        , 0.66601562, 0.        ,\n",
            "       0.        , 0.        ]))\n"
          ]
        }
      ],
      "source": [
        "print(\"P(<> D1) =\", markov.until_pctl(\"D1\"))\n",
        "print(\"P(<> < 10 D1) =\", markov.until_pctl(\"D1\", 10))"
      ]
    },
    {
      "cell_type": "markdown",
      "metadata": {},
      "source": [
        "- PCTL pour MDP\n"
      ]
    },
    {
      "cell_type": "markdown",
      "metadata": {},
      "source": [
        "### SMC\n"
      ]
    },
    {
      "cell_type": "markdown",
      "metadata": {},
      "source": [
        "- SMC Quantitatif avec Monte Carlo\n"
      ]
    },
    {
      "cell_type": "code",
      "execution_count": null,
      "metadata": {},
      "outputs": [
        {
          "name": "stdout",
          "output_type": "stream",
          "text": [
            "SMC with Monte Carlo with N=9223 iterations\n"
          ]
        },
        {
          "data": {
            "text/plain": [
              "0.16805811558061368"
            ]
          },
          "execution_count": 4,
          "metadata": {},
          "output_type": "execute_result"
        }
      ],
      "source": [
        "markov.monte_carlo(states=[\"D1\"], epsilon=0.01, delta=0.05)"
      ]
    },
    {
      "cell_type": "markdown",
      "metadata": {},
      "source": [
        "- SMC Qualitatif avec Sequential Probability Ratio Test\n"
      ]
    },
    {
      "cell_type": "code",
      "execution_count": null,
      "metadata": {},
      "outputs": [
        {
          "name": "stdout",
          "output_type": "stream",
          "text": [
            "gamma>=0.15000000000000002\n",
            "Number of iterations : 1436\n"
          ]
        },
        {
          "data": {
            "text/plain": [
              "0.15000000000000002"
            ]
          },
          "execution_count": 6,
          "metadata": {},
          "output_type": "execute_result"
        }
      ],
      "source": [
        "markov.sprt(theta=0.14, final_states=['D1'])"
      ]
    },
    {
      "cell_type": "markdown",
      "metadata": {},
      "source": [
        "### Q-Learning\n"
      ]
    },
    {
      "cell_type": "code",
      "execution_count": 3,
      "metadata": {},
      "outputs": [
        {
          "ename": "Warning",
          "evalue": "Using a learning algorithm on a markov chain is pointless.",
          "output_type": "error",
          "traceback": [
            "\u001b[0;31m---------------------------------------------------------------------------\u001b[0m",
            "\u001b[0;31mWarning\u001b[0m                                   Traceback (most recent call last)",
            "\u001b[1;32m/home/mcoutier/Centrale/MPAR/markov-interaction/src/Algorithms.ipynb Cell 20\u001b[0m line \u001b[0;36m1\n\u001b[0;32m----> <a href='vscode-notebook-cell://wsl%2Bubuntu/home/mcoutier/Centrale/MPAR/markov-interaction/src/Algorithms.ipynb#X26sdnNjb2RlLXJlbW90ZQ%3D%3D?line=0'>1</a>\u001b[0m markov\u001b[39m.\u001b[39mq_learning(Ttot\u001b[39m=\u001b[39m\u001b[39m100000\u001b[39m, gamma\u001b[39m=\u001b[39m\u001b[39m0.5\u001b[39m)\n",
            "File \u001b[0;32m~/Centrale/MPAR/markov-interaction/src/markov.py:254\u001b[0m, in \u001b[0;36mMarkov.q_learning\u001b[0;34m(self, Ttot, gamma)\u001b[0m\n\u001b[1;32m    252\u001b[0m \u001b[39mdef\u001b[39;00m \u001b[39mq_learning\u001b[39m(\u001b[39mself\u001b[39m, Ttot: \u001b[39mint\u001b[39m, gamma: \u001b[39mfloat\u001b[39m \u001b[39m=\u001b[39m \u001b[39m0.1\u001b[39m):\n\u001b[1;32m    253\u001b[0m     \u001b[39mif\u001b[39;00m \u001b[39mself\u001b[39m\u001b[39m.\u001b[39mis_markov_chain():\n\u001b[0;32m--> 254\u001b[0m         \u001b[39mraise\u001b[39;00m \u001b[39mWarning\u001b[39;00m(\u001b[39m\"\u001b[39m\u001b[39mUsing a learning algorithm on a markov chain is pointless.\u001b[39m\u001b[39m\"\u001b[39m)\n\u001b[1;32m    255\u001b[0m     q \u001b[39m=\u001b[39m {}\n\u001b[1;32m    256\u001b[0m     \u001b[39mfor\u001b[39;00m state \u001b[39min\u001b[39;00m \u001b[39mself\u001b[39m\u001b[39m.\u001b[39mgraph\u001b[39m.\u001b[39mkeys():\n",
            "\u001b[0;31mWarning\u001b[0m: Using a learning algorithm on a markov chain is pointless."
          ]
        }
      ],
      "source": [
        "markov.q_learning(Ttot=100000, gamma=0.5)"
      ]
    }
  ],
  "metadata": {
    "kernelspec": {
      "display_name": "MPAR",
      "language": "python",
      "name": "python3"
    },
    "language_info": {
      "codemirror_mode": {
        "name": "ipython",
        "version": 3
      },
      "file_extension": ".py",
      "mimetype": "text/x-python",
      "name": "python",
      "nbconvert_exporter": "python",
      "pygments_lexer": "ipython3",
      "version": "3.12.1"
    }
  },
  "nbformat": 4,
  "nbformat_minor": 2
}
