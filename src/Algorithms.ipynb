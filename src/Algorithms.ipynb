{
  "cells": [
    {
      "cell_type": "markdown",
      "metadata": {},
      "source": [
        "# Algorithms implemented\n"
      ]
    },
    {
      "cell_type": "code",
      "execution_count": 1,
      "metadata": {},
      "outputs": [
        {
          "name": "stdout",
          "output_type": "stream",
          "text": [
            "pygame 2.5.2 (SDL 2.28.2, Python 3.12.1)\n",
            "Hello from the pygame community. https://www.pygame.org/contribute.html\n"
          ]
        }
      ],
      "source": [
        "from utils import markov_from_file\n",
        "from main import main_gi, main_console"
      ]
    },
    {
      "cell_type": "markdown",
      "metadata": {},
      "source": [
        "Change path_to_markov to the path to the model you would like to simulate."
      ]
    },
    {
      "cell_type": "code",
      "execution_count": 2,
      "metadata": {},
      "outputs": [
        {
          "name": "stdout",
          "output_type": "stream",
          "text": [
            "ANTLR runtime and generated code versions disagree: 4.9.2!=4.7.2\n",
            "ANTLR runtime and generated code versions disagree: 4.9.2!=4.7.2\n"
          ]
        }
      ],
      "source": [
        "path_to_markov = \"examples/simu-qlearn.mdp\"\n",
        "markov = markov_from_file(path_to_markov)"
      ]
    },
    {
      "cell_type": "markdown",
      "metadata": {},
      "source": [
        "### Simulate your model"
      ]
    },
    {
      "cell_type": "markdown",
      "metadata": {},
      "source": [
        "- Here you can simulate manually your model with a graphic interface."
      ]
    },
    {
      "cell_type": "code",
      "execution_count": 3,
      "metadata": {},
      "outputs": [
        {
          "name": "stderr",
          "output_type": "stream",
          "text": [
            "ALSA lib confmisc.c:855:(parse_card) cannot find card '0'\n",
            "ALSA lib conf.c:5178:(_snd_config_evaluate) function snd_func_card_inum returned error: No such file or directory\n",
            "ALSA lib confmisc.c:422:(snd_func_concat) error evaluating strings\n",
            "ALSA lib conf.c:5178:(_snd_config_evaluate) function snd_func_concat returned error: No such file or directory\n",
            "ALSA lib confmisc.c:1334:(snd_func_refer) error evaluating name\n",
            "ALSA lib conf.c:5178:(_snd_config_evaluate) function snd_func_refer returned error: No such file or directory\n",
            "ALSA lib conf.c:5701:(snd_config_expand) Evaluate error: No such file or directory\n",
            "ALSA lib pcm.c:2664:(snd_pcm_open_noupdate) Unknown PCM default\n",
            "/home/mcoutier/miniconda3/envs/MPAR/lib/python3.12/site-packages/pygame/sysfont.py:223: UserWarning: 'fc-list' is missing, system fonts cannot be loaded on your platform\n",
            "  warnings.warn(\n"
          ]
        },
        {
          "name": "stdout",
          "output_type": "stream",
          "text": [
            "ANTLR runtime and generated code versions disagree: 4.9.2!=4.7.2\n",
            "ANTLR runtime and generated code versions disagree: 4.9.2!=4.7.2\n"
          ]
        }
      ],
      "source": [
        "main_gi(markov)\n",
        "markov = markov_from_file(path_to_markov) ## reset your model after simulation to simulate again"
      ]
    },
    {
      "cell_type": "markdown",
      "metadata": {},
      "source": [
        "- Here you can simulate manually your model with a textual interface."
      ]
    },
    {
      "cell_type": "code",
      "execution_count": 22,
      "metadata": {},
      "outputs": [
        {
          "name": "stdout",
          "output_type": "stream",
          "text": [
            "\n",
            "\n",
            "Simulation starts. Enter . to end simulation\n",
            "\n",
            "Current state: S0\n",
            "Transition To S1 with weight 1 chosen. \n",
            "\n",
            "Current state: S1\n",
            "Following transitions are possible : To S0 with weight 1\n",
            "ANTLR runtime and generated code versions disagree: 4.9.2!=4.7.2\n",
            "ANTLR runtime and generated code versions disagree: 4.9.2!=4.7.2\n"
          ]
        }
      ],
      "source": [
        "main_console(markov)\n",
        "markov = markov_from_file(path_to_markov) ## reset your model after simulation to simulate again"
      ]
    },
    {
      "cell_type": "markdown",
      "metadata": {},
      "source": [
        "### Probabilistic Computation Tree Logic\n"
      ]
    },
    {
      "cell_type": "markdown",
      "metadata": {},
      "source": [
        "- PCTL pour DTMC\n"
      ]
    },
    {
      "cell_type": "code",
      "execution_count": null,
      "metadata": {},
      "outputs": [
        {
          "name": "stdout",
          "output_type": "stream",
          "text": [
            "P(<> D1) = (['S0', 'S1', 'S2', 'S3', 'S4', 'S5', 'S6'], array([0.16666667, 0.33333333, 0.        , 0.66666667, 0.        ,\n",
            "       0.        , 0.        ]))\n",
            "P(<> < 10 D1) = (['S0', 'S1', 'S2', 'S3', 'S4', 'S5', 'S6'], array([0.16601562, 0.33300781, 0.        , 0.66601562, 0.        ,\n",
            "       0.        , 0.        ]))\n"
          ]
        }
      ],
      "source": [
        "print(\"P(<> D1) =\", markov.until_pctl(\"D1\"))\n",
        "print(\"P(<> < 10 D1) =\", markov.until_pctl(\"D1\", 10))"
      ]
    },
    {
      "cell_type": "markdown",
      "metadata": {},
      "source": [
        "- PCTL pour MDP\n"
      ]
    },
    {
      "cell_type": "markdown",
      "metadata": {},
      "source": [
        "### SMC\n"
      ]
    },
    {
      "cell_type": "markdown",
      "metadata": {},
      "source": [
        "- SMC Quantitatif avec Monte Carlo\n"
      ]
    },
    {
      "cell_type": "code",
      "execution_count": null,
      "metadata": {},
      "outputs": [
        {
          "name": "stdout",
          "output_type": "stream",
          "text": [
            "SMC with Monte Carlo with N=9223 iterations\n"
          ]
        },
        {
          "data": {
            "text/plain": [
              "0.16805811558061368"
            ]
          },
          "execution_count": 4,
          "metadata": {},
          "output_type": "execute_result"
        }
      ],
      "source": [
        "markov.monte_carlo(states=[\"D1\"], epsilon=0.01, delta=0.05)"
      ]
    },
    {
      "cell_type": "markdown",
      "metadata": {},
      "source": [
        "- SMC Qualitatif avec Sequential Probability Ratio Test\n"
      ]
    },
    {
      "cell_type": "code",
      "execution_count": null,
      "metadata": {},
      "outputs": [
        {
          "name": "stdout",
          "output_type": "stream",
          "text": [
            "gamma>=0.15000000000000002\n",
            "Number of iterations : 1436\n"
          ]
        },
        {
          "data": {
            "text/plain": [
              "0.15000000000000002"
            ]
          },
          "execution_count": 6,
          "metadata": {},
          "output_type": "execute_result"
        }
      ],
      "source": [
        "markov.sprt(theta=0.14, final_states=['D1'])"
      ]
    },
    {
      "cell_type": "markdown",
      "metadata": {},
      "source": [
        "### Q-Learning\n"
      ]
    },
    {
      "cell_type": "markdown",
      "metadata": {},
      "source": [
        "On prend l'action qui a la valeur de q la plus haute pour chaque état"
      ]
    },
    {
      "cell_type": "code",
      "execution_count": 7,
      "metadata": {},
      "outputs": [
        {
          "data": {
            "text/plain": [
              "{'S0;a': 21.300252941606306,\n",
              " 'S0;b': 6.598452491259966,\n",
              " 'S1;None': 9.051738428134422,\n",
              " 'S2;None': 93.50170039317918,\n",
              " 'S3;None': 106.10919586244849,\n",
              " 'S4;None': 10.47390949751756}"
            ]
          },
          "execution_count": 7,
          "metadata": {},
          "output_type": "execute_result"
        }
      ],
      "source": [
        "markov.q_learning(Ttot=100000, gamma=0.5)"
      ]
    }
  ],
  "metadata": {
    "kernelspec": {
      "display_name": "MPAR",
      "language": "python",
      "name": "python3"
    },
    "language_info": {
      "codemirror_mode": {
        "name": "ipython",
        "version": 3
      },
      "file_extension": ".py",
      "mimetype": "text/x-python",
      "name": "python",
      "nbconvert_exporter": "python",
      "pygments_lexer": "ipython3",
      "version": "3.12.1"
    }
  },
  "nbformat": 4,
  "nbformat_minor": 2
}
